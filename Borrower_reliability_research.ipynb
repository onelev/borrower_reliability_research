{
 "cells": [
  {
   "cell_type": "markdown",
   "id": "0fb81c6f",
   "metadata": {},
   "source": [
    "# Исследование надежности заемщиков"
   ]
  },
  {
   "cell_type": "markdown",
   "id": "36dc175b",
   "metadata": {},
   "source": [
    "# ПРЕДОБРАБОТКА ДАННЫХ"
   ]
  },
  {
   "cell_type": "markdown",
   "id": "e57b11ac",
   "metadata": {},
   "source": [
    "Обзор данных. Импорт библиотеки pandas, чтение файла, ознакомление с содержимым. "
   ]
  },
  {
   "cell_type": "code",
   "execution_count": 1,
   "id": "f9530f83",
   "metadata": {},
   "outputs": [
    {
     "data": {
      "text/html": [
       "<div>\n",
       "<style scoped>\n",
       "    .dataframe tbody tr th:only-of-type {\n",
       "        vertical-align: middle;\n",
       "    }\n",
       "\n",
       "    .dataframe tbody tr th {\n",
       "        vertical-align: top;\n",
       "    }\n",
       "\n",
       "    .dataframe thead th {\n",
       "        text-align: right;\n",
       "    }\n",
       "</style>\n",
       "<table border=\"1\" class=\"dataframe\">\n",
       "  <thead>\n",
       "    <tr style=\"text-align: right;\">\n",
       "      <th></th>\n",
       "      <th>children</th>\n",
       "      <th>days_employed</th>\n",
       "      <th>dob_years</th>\n",
       "      <th>education</th>\n",
       "      <th>education_id</th>\n",
       "      <th>family_status</th>\n",
       "      <th>family_status_id</th>\n",
       "      <th>gender</th>\n",
       "      <th>income_type</th>\n",
       "      <th>debt</th>\n",
       "      <th>total_income</th>\n",
       "      <th>purpose</th>\n",
       "    </tr>\n",
       "  </thead>\n",
       "  <tbody>\n",
       "    <tr>\n",
       "      <th>0</th>\n",
       "      <td>1</td>\n",
       "      <td>-8437.673028</td>\n",
       "      <td>42</td>\n",
       "      <td>высшее</td>\n",
       "      <td>0</td>\n",
       "      <td>женат / замужем</td>\n",
       "      <td>0</td>\n",
       "      <td>F</td>\n",
       "      <td>сотрудник</td>\n",
       "      <td>0</td>\n",
       "      <td>253875.639453</td>\n",
       "      <td>покупка жилья</td>\n",
       "    </tr>\n",
       "    <tr>\n",
       "      <th>1</th>\n",
       "      <td>1</td>\n",
       "      <td>-4024.803754</td>\n",
       "      <td>36</td>\n",
       "      <td>среднее</td>\n",
       "      <td>1</td>\n",
       "      <td>женат / замужем</td>\n",
       "      <td>0</td>\n",
       "      <td>F</td>\n",
       "      <td>сотрудник</td>\n",
       "      <td>0</td>\n",
       "      <td>112080.014102</td>\n",
       "      <td>приобретение автомобиля</td>\n",
       "    </tr>\n",
       "    <tr>\n",
       "      <th>2</th>\n",
       "      <td>0</td>\n",
       "      <td>-5623.422610</td>\n",
       "      <td>33</td>\n",
       "      <td>Среднее</td>\n",
       "      <td>1</td>\n",
       "      <td>женат / замужем</td>\n",
       "      <td>0</td>\n",
       "      <td>M</td>\n",
       "      <td>сотрудник</td>\n",
       "      <td>0</td>\n",
       "      <td>145885.952297</td>\n",
       "      <td>покупка жилья</td>\n",
       "    </tr>\n",
       "    <tr>\n",
       "      <th>3</th>\n",
       "      <td>3</td>\n",
       "      <td>-4124.747207</td>\n",
       "      <td>32</td>\n",
       "      <td>среднее</td>\n",
       "      <td>1</td>\n",
       "      <td>женат / замужем</td>\n",
       "      <td>0</td>\n",
       "      <td>M</td>\n",
       "      <td>сотрудник</td>\n",
       "      <td>0</td>\n",
       "      <td>267628.550329</td>\n",
       "      <td>дополнительное образование</td>\n",
       "    </tr>\n",
       "    <tr>\n",
       "      <th>4</th>\n",
       "      <td>0</td>\n",
       "      <td>340266.072047</td>\n",
       "      <td>53</td>\n",
       "      <td>среднее</td>\n",
       "      <td>1</td>\n",
       "      <td>гражданский брак</td>\n",
       "      <td>1</td>\n",
       "      <td>F</td>\n",
       "      <td>пенсионер</td>\n",
       "      <td>0</td>\n",
       "      <td>158616.077870</td>\n",
       "      <td>сыграть свадьбу</td>\n",
       "    </tr>\n",
       "  </tbody>\n",
       "</table>\n",
       "</div>"
      ],
      "text/plain": [
       "   children  days_employed  dob_years education  education_id  \\\n",
       "0         1   -8437.673028         42    высшее             0   \n",
       "1         1   -4024.803754         36   среднее             1   \n",
       "2         0   -5623.422610         33   Среднее             1   \n",
       "3         3   -4124.747207         32   среднее             1   \n",
       "4         0  340266.072047         53   среднее             1   \n",
       "\n",
       "      family_status  family_status_id gender income_type  debt   total_income  \\\n",
       "0   женат / замужем                 0      F   сотрудник     0  253875.639453   \n",
       "1   женат / замужем                 0      F   сотрудник     0  112080.014102   \n",
       "2   женат / замужем                 0      M   сотрудник     0  145885.952297   \n",
       "3   женат / замужем                 0      M   сотрудник     0  267628.550329   \n",
       "4  гражданский брак                 1      F   пенсионер     0  158616.077870   \n",
       "\n",
       "                      purpose  \n",
       "0               покупка жилья  \n",
       "1     приобретение автомобиля  \n",
       "2               покупка жилья  \n",
       "3  дополнительное образование  \n",
       "4             сыграть свадьбу  "
      ]
     },
     "execution_count": 1,
     "metadata": {},
     "output_type": "execute_result"
    }
   ],
   "source": [
    "# импорт библиотеки pandas\n",
    "import pandas as pd\n",
    "\n",
    "import matplotlib.pyplot as plt\n",
    "# чтение файла и сохранение его в переменной\n",
    "try:\n",
    "    data = pd.read_csv('/Users/onelev/shkoding/datasets/bank_data.csv')\n",
    "except:\n",
    "    data = pd.read_csv('/datasets/data.csv')\n",
    "# просмотр 5 первых строк, чтобы ознакомится с содержимым\n",
    "data.head()"
   ]
  },
  {
   "cell_type": "markdown",
   "id": "0d11ff8d",
   "metadata": {},
   "source": [
    "## Определение и заполнение пропусков"
   ]
  },
  {
   "cell_type": "code",
   "execution_count": 2,
   "id": "cdd3cabb",
   "metadata": {},
   "outputs": [
    {
     "name": "stdout",
     "output_type": "stream",
     "text": [
      "<class 'pandas.core.frame.DataFrame'>\n",
      "RangeIndex: 21525 entries, 0 to 21524\n",
      "Data columns (total 12 columns):\n",
      " #   Column            Non-Null Count  Dtype  \n",
      "---  ------            --------------  -----  \n",
      " 0   children          21525 non-null  int64  \n",
      " 1   days_employed     19351 non-null  float64\n",
      " 2   dob_years         21525 non-null  int64  \n",
      " 3   education         21525 non-null  object \n",
      " 4   education_id      21525 non-null  int64  \n",
      " 5   family_status     21525 non-null  object \n",
      " 6   family_status_id  21525 non-null  int64  \n",
      " 7   gender            21525 non-null  object \n",
      " 8   income_type       21525 non-null  object \n",
      " 9   debt              21525 non-null  int64  \n",
      " 10  total_income      19351 non-null  float64\n",
      " 11  purpose           21525 non-null  object \n",
      "dtypes: float64(2), int64(5), object(5)\n",
      "memory usage: 2.0+ MB\n"
     ]
    }
   ],
   "source": [
    "# просмотрю общие сведения о таблице\n",
    "data.info()"
   ]
  },
  {
   "cell_type": "markdown",
   "id": "e028043c",
   "metadata": {},
   "source": [
    "Столбцы дни стажа и суммарный доход имеют меньшее количество данных, значит там могут находится пропуски. Проверим это."
   ]
  },
  {
   "cell_type": "code",
   "execution_count": 3,
   "id": "719a48e6",
   "metadata": {},
   "outputs": [
    {
     "data": {
      "text/plain": [
       "children               0\n",
       "days_employed       2174\n",
       "dob_years              0\n",
       "education              0\n",
       "education_id           0\n",
       "family_status          0\n",
       "family_status_id       0\n",
       "gender                 0\n",
       "income_type            0\n",
       "debt                   0\n",
       "total_income        2174\n",
       "purpose                0\n",
       "dtype: int64"
      ]
     },
     "execution_count": 3,
     "metadata": {},
     "output_type": "execute_result"
    }
   ],
   "source": [
    "# определю в каких столбцах и в каком количестве имеются пропуски\n",
    "data.isna().sum()"
   ]
  },
  {
   "cell_type": "markdown",
   "id": "053d6bbb",
   "metadata": {},
   "source": [
    "В колонках 'days_employed' и 'total_income' присутствуют эквивалентное количество пропусков. \n",
    "Первая колонка - это, по-видимому, сколько человек работает, второе - суммарный доход. \n",
    "Очевидно что пропуски взаимосвязаны, поскольку не работая человек не получает дохода. \n",
    "\n",
    "Проверим, сколько процентов от суммарного колличества данных занимают пропуски. \n",
    "\n",
    "Поскольку в обоих случаях количество пропусков одинаково, то и доля будет идентична. "
   ]
  },
  {
   "cell_type": "code",
   "execution_count": 4,
   "id": "886aabb9",
   "metadata": {},
   "outputs": [
    {
     "data": {
      "text/plain": [
       "11.234561521368406"
      ]
     },
     "execution_count": 4,
     "metadata": {},
     "output_type": "execute_result"
    }
   ],
   "source": [
    "# посчитаю долю пропущенных значений в столбцах\n",
    "data['days_employed'].isna().sum() / data['days_employed'].count() * 100"
   ]
  },
  {
   "cell_type": "markdown",
   "id": "cddff816",
   "metadata": {},
   "source": [
    "Теперь мы знаем что доля пустых значения равняется 11%. \n",
    "\n",
    "Далее, заменим все пропуски на медианные значения. Здесь будем использовать именно медианные значения, поскольку количество дней, которое человек работает и достаток могут значительно отличаться от человека к человеку. Таким образом средние значения могут слишком занижать или завышать значение. Медиана будет более репрезентативна."
   ]
  },
  {
   "cell_type": "code",
   "execution_count": 5,
   "id": "4bfb69d7",
   "metadata": {},
   "outputs": [
    {
     "data": {
      "text/plain": [
       "0"
      ]
     },
     "metadata": {},
     "output_type": "display_data"
    }
   ],
   "source": [
    "total_median = data.groupby('income_type')['total_income'].median()\n",
    "\n",
    "data.loc[(data['total_income'].isna()) & (data['income_type'] == 'сотрудник'), 'total_income'] = total_median[6]\n",
    "data.loc[(data['total_income'].isna()) & (data['income_type'] == 'пенсионер'), 'total_income'] = total_median[4]\n",
    "data.loc[(data['total_income'].isna()) & (data['income_type'] == 'компаньон'), 'total_income'] = total_median[3]\n",
    "data.loc[(data['total_income'].isna()) & (data['income_type'] == 'госслужащий'), 'total_income'] = total_median[2]\n",
    "data.loc[(data['total_income'].isna()) & (data['income_type'] == 'предприниматель'), 'total_income'] = total_median[-3]\n",
    "\n",
    "display(data['total_income'].isna().sum())         "
   ]
  },
  {
   "cell_type": "code",
   "execution_count": 6,
   "id": "21be594f",
   "metadata": {},
   "outputs": [
    {
     "data": {
      "text/plain": [
       "children            0\n",
       "days_employed       0\n",
       "dob_years           0\n",
       "education           0\n",
       "education_id        0\n",
       "family_status       0\n",
       "family_status_id    0\n",
       "gender              0\n",
       "income_type         0\n",
       "debt                0\n",
       "total_income        0\n",
       "purpose             0\n",
       "dtype: int64"
      ]
     },
     "execution_count": 6,
     "metadata": {},
     "output_type": "execute_result"
    }
   ],
   "source": [
    "# заменю пропуски медианными значениями по столбцу\n",
    "data['days_employed'] = data['days_employed'].fillna(data['days_employed'].median())\n",
    "data.isna().sum()"
   ]
  },
  {
   "cell_type": "markdown",
   "id": "556403a5",
   "metadata": {},
   "source": [
    "## Замена вещественного типа данных на целочисленный"
   ]
  },
  {
   "cell_type": "code",
   "execution_count": 7,
   "id": "195281d2",
   "metadata": {},
   "outputs": [],
   "source": [
    "data['total_income'] = data['total_income'].astype('int')"
   ]
  },
  {
   "cell_type": "markdown",
   "id": "320a3f35",
   "metadata": {},
   "source": [
    "## АНОМАЛИИ"
   ]
  },
  {
   "cell_type": "markdown",
   "id": "92063b8e",
   "metadata": {},
   "source": [
    "1. В столбце дни стажа значения отрицательные, и некоторые очевидно гораздо больше чем должны быть. Исправлю это."
   ]
  },
  {
   "cell_type": "code",
   "execution_count": 8,
   "id": "6acefcb2",
   "metadata": {},
   "outputs": [
    {
     "data": {
      "text/plain": [
       "0          8437.673028\n",
       "1          4024.803754\n",
       "2          5623.422610\n",
       "3          4124.747207\n",
       "4        340266.072047\n",
       "             ...      \n",
       "21520      4529.316663\n",
       "21521    343937.404131\n",
       "21522      2113.346888\n",
       "21523      3112.481705\n",
       "21524      1984.507589\n",
       "Name: days_employed, Length: 21525, dtype: float64"
      ]
     },
     "metadata": {},
     "output_type": "display_data"
    }
   ],
   "source": [
    "#избавлюсь от отрицательных значений\n",
    "data['days_employed'] = abs(data['days_employed'])\n",
    "display(data['days_employed'])"
   ]
  },
  {
   "cell_type": "markdown",
   "id": "3511fa5e",
   "metadata": {},
   "source": [
    "Очевидно, что в некоторых строках количество дней слишком велико, чтобы это уточнить переведу дни в года (для простоты буду использовать 365дней = 1 год)"
   ]
  },
  {
   "cell_type": "code",
   "execution_count": 9,
   "id": "66d27fe3",
   "metadata": {},
   "outputs": [],
   "source": [
    "# проверю каков стаж в годах\n",
    "data['days_employed'] = data['days_employed'] / 365\n",
    "\n",
    "# поскольку в некоторых случаях стаж равен 900 годам, заменю такие аномалии\n",
    "# на средние 30 лет рабочего стажа\n",
    "data.loc[(data['days_employed'] >= data['dob_years']), 'days_employed'] = 30\n",
    "# изменю название, поскольку это уже не дни работы\n",
    "data = data.rename(columns = {'days_employed' : 'years_employed'})\n",
    "# приведу к целочисленному формату для удобства\n",
    "data['years_employed'] = data['years_employed'].astype('int')"
   ]
  },
  {
   "cell_type": "markdown",
   "id": "8a9d290a",
   "metadata": {},
   "source": [
    "2. в колонке с гендером имеется странный XNA, решила заменить его на 'M'"
   ]
  },
  {
   "cell_type": "code",
   "execution_count": 10,
   "id": "c2696135",
   "metadata": {},
   "outputs": [
    {
     "data": {
      "text/plain": [
       "F    14236\n",
       "M     7288\n",
       "Name: gender, dtype: int64"
      ]
     },
     "execution_count": 10,
     "metadata": {},
     "output_type": "execute_result"
    }
   ],
   "source": [
    "# проверю уникальные наименования в столбце  гендер\n",
    "data['gender'].value_counts()\n",
    "# удалю строку с XNA гендером\n",
    "data = data.loc[data['gender'] != 'XNA']\n",
    "# проверю результат\n",
    "data['gender'].value_counts()"
   ]
  },
  {
   "cell_type": "markdown",
   "id": "757a8810",
   "metadata": {},
   "source": [
    "3. В колонке с детьми есть отрицательные значения, а также у кого-то 20 детей."
   ]
  },
  {
   "cell_type": "code",
   "execution_count": 11,
   "id": "cb626976",
   "metadata": {},
   "outputs": [],
   "source": [
    "# проверим аномалии в колонке дети\n",
    "data['children'].value_counts()\n",
    "# поменяем отрицательные значения на положительные\n",
    "data['children'] = abs(data['children'])\n",
    "# изменим 20 детей на 2\n",
    "data.loc[data['children'] == 20, 'children'] = 2"
   ]
  },
  {
   "cell_type": "markdown",
   "id": "7440ac81",
   "metadata": {},
   "source": [
    "4. Проверим аномалии в столбце возраста "
   ]
  },
  {
   "cell_type": "code",
   "execution_count": 12,
   "id": "2a588f7e",
   "metadata": {},
   "outputs": [],
   "source": [
    "# сгруппируем и отсортируем колонку по возрасту, видим что есть возраст равный 0\n",
    "data.sort_values(by='dob_years').groupby('dob_years')['dob_years'].count()\n",
    "# оставим в таблице только значения удовлетворяющие условию\n",
    "data = data.loc[data['dob_years'] != 0]"
   ]
  },
  {
   "cell_type": "markdown",
   "id": "0dd19fd9",
   "metadata": {},
   "source": [
    "## Поиск дубликатов"
   ]
  },
  {
   "cell_type": "code",
   "execution_count": 13,
   "id": "97272090",
   "metadata": {},
   "outputs": [
    {
     "data": {
      "text/plain": [
       "среднее                13691\n",
       "высшее                  4686\n",
       "СРЕДНЕЕ                  770\n",
       "Среднее                  708\n",
       "неоконченное высшее      665\n",
       "ВЫСШЕЕ                   273\n",
       "Высшее                   266\n",
       "начальное                250\n",
       "Неоконченное высшее       47\n",
       "НЕОКОНЧЕННОЕ ВЫСШЕЕ       29\n",
       "НАЧАЛЬНОЕ                 17\n",
       "Начальное                 15\n",
       "ученая степень             4\n",
       "Ученая степень             1\n",
       "УЧЕНАЯ СТЕПЕНЬ             1\n",
       "Name: education, dtype: int64"
      ]
     },
     "execution_count": 13,
     "metadata": {},
     "output_type": "execute_result"
    }
   ],
   "source": [
    "# посмотри уникальные значения столбца образование\n",
    "data['education'].value_counts()"
   ]
  },
  {
   "cell_type": "markdown",
   "id": "8fe09c63",
   "metadata": {},
   "source": [
    "Приведем все значения к нижнему регистру и проверим после еще раз количество уникальных наименований. \n",
    "Таким образом мы избавимся от дубликатов, возникших из-за использования разного регистра при написании."
   ]
  },
  {
   "cell_type": "code",
   "execution_count": 14,
   "id": "b25d6217",
   "metadata": {},
   "outputs": [
    {
     "data": {
      "text/plain": [
       "среднее                15169\n",
       "высшее                  5225\n",
       "неоконченное высшее      741\n",
       "начальное                282\n",
       "ученая степень             6\n",
       "Name: education, dtype: int64"
      ]
     },
     "execution_count": 14,
     "metadata": {},
     "output_type": "execute_result"
    }
   ],
   "source": [
    "# привожу все значения к нижнему регистру\n",
    "data['education'] = data['education'].str.lower()\n",
    "# проверяю как изменился список уникальных значений\n",
    "data['education'].value_counts()"
   ]
  },
  {
   "cell_type": "markdown",
   "id": "1ee815e6",
   "metadata": {},
   "source": [
    "Проведем ту же операцию для колонок семейный статус, тип дохода и цели получения заема."
   ]
  },
  {
   "cell_type": "code",
   "execution_count": 15,
   "id": "2e554fd3",
   "metadata": {},
   "outputs": [
    {
     "data": {
      "text/plain": [
       "свадьба                                   792\n",
       "на проведение свадьбы                     773\n",
       "сыграть свадьбу                           769\n",
       "операции с недвижимостью                  673\n",
       "покупка коммерческой недвижимости         661\n",
       "покупка жилья для сдачи                   651\n",
       "операции с коммерческой недвижимостью     649\n",
       "операции с жильем                         647\n",
       "покупка жилья                             641\n",
       "жилье                                     641\n",
       "покупка жилья для семьи                   640\n",
       "строительство собственной недвижимости    633\n",
       "операции со своей недвижимостью           630\n",
       "недвижимость                              630\n",
       "строительство жилой недвижимости          623\n",
       "строительство недвижимости                620\n",
       "покупка недвижимости                      620\n",
       "покупка своего жилья                      619\n",
       "ремонт жилью                              610\n",
       "покупка жилой недвижимости                604\n",
       "на покупку своего автомобиля              502\n",
       "заняться высшим образованием              493\n",
       "автомобиль                                491\n",
       "сделка с подержанным автомобилем          487\n",
       "на покупку подержанного автомобиля        479\n",
       "свой автомобиль                           477\n",
       "автомобили                                476\n",
       "на покупку автомобиля                     467\n",
       "приобретение автомобиля                   460\n",
       "дополнительное образование                460\n",
       "сделка с автомобилем                      454\n",
       "высшее образование                        450\n",
       "получение дополнительного образования     445\n",
       "образование                               444\n",
       "получение образования                     442\n",
       "профильное образование                    435\n",
       "получение высшего образования             424\n",
       "заняться образованием                     411\n",
       "Name: purpose, dtype: int64"
      ]
     },
     "execution_count": 15,
     "metadata": {},
     "output_type": "execute_result"
    }
   ],
   "source": [
    "# проверим семейный статус\n",
    "data['family_status'].value_counts()\n",
    "# проверим источник дохода\n",
    "data['income_type'].value_counts()\n",
    "# проверим цель получения заема\n",
    "data['purpose'].value_counts()"
   ]
  },
  {
   "cell_type": "code",
   "execution_count": 16,
   "id": "10f77991",
   "metadata": {},
   "outputs": [],
   "source": [
    "# проверила наличие дубликатов\n",
    "data.duplicated().sum()\n",
    "# удалила дубликаты, сбросила индексы\n",
    "data = data.drop_duplicates().reset_index(drop=True)"
   ]
  },
  {
   "cell_type": "markdown",
   "id": "c14b4404",
   "metadata": {},
   "source": [
    "Очевидно что здесь большое количество дубликатов, но мы не будем удалять их на данном этапе, в дальнейшем напишем функцию, которая разлбьет все это на 4 основные категотрии."
   ]
  },
  {
   "cell_type": "code",
   "execution_count": 17,
   "id": "588730a5",
   "metadata": {},
   "outputs": [],
   "source": [
    "# создам отдельный словарь с кодом семьи и статусом, удалю дубликаты\n",
    "education_dict = data[['education_id', 'education']].drop_duplicates().reset_index(drop=True)\n",
    "#display(education_dict)\n",
    "# создам словарь с кодом образования и наименованием образования, удалю дубликаты, сброшу индексы\n",
    "family_dict = data[['family_status_id', 'family_status']].drop_duplicates().reset_index(drop=True)\n",
    "#display(family_dict)\n",
    "# удалю столбцы семейный статус и образование, оставив только их id\n",
    "del data['family_status']\n",
    "del data['education']"
   ]
  },
  {
   "cell_type": "markdown",
   "id": "a133b27a",
   "metadata": {},
   "source": [
    "## Категоризация данных"
   ]
  },
  {
   "cell_type": "markdown",
   "id": "1cf4a63c",
   "metadata": {},
   "source": [
    "Напишу функцию, которая будет принимать в качестве аргумента заработок клиента, \n",
    "присваивая ему категорию согласно заданным диапазонам."
   ]
  },
  {
   "cell_type": "code",
   "execution_count": 18,
   "id": "51589da1",
   "metadata": {},
   "outputs": [],
   "source": [
    "def incomes(income):\n",
    "    if 0 <= income <= 30000:\n",
    "        return 'E'\n",
    "    elif 30001 <= income <= 50000:\n",
    "        return 'D'\n",
    "    elif 50001 <= income <= 200000:\n",
    "        return 'C'\n",
    "    elif 200001 <= income <= 1000000:\n",
    "        return 'B'\n",
    "    else:\n",
    "        return 'A'"
   ]
  },
  {
   "cell_type": "code",
   "execution_count": 19,
   "id": "f069409a",
   "metadata": {},
   "outputs": [],
   "source": [
    "# создам отдельный столбец, в которм будут присвоенные буквенные обозначения по уровню дохода\n",
    "data['total_income_category'] = data['total_income'].apply(incomes)\n",
    "# удалю суммарный заработок, оставив столбец с буквенным обозначением категории\n",
    "del data['total_income']"
   ]
  },
  {
   "cell_type": "markdown",
   "id": "6ea57078",
   "metadata": {},
   "source": [
    "На основании данных из столбца \"цели\", выделим 4 основные категории заема:\n",
    "    -1)Проведение свадеб\n",
    "    -2)Получение образования\n",
    "    -3)Операции с автомобилем\n",
    "    -4)Операции с недвижимостью"
   ]
  },
  {
   "cell_type": "code",
   "execution_count": 20,
   "id": "362b9ea6",
   "metadata": {},
   "outputs": [],
   "source": [
    "# функция будет принимать в качестве аргумента значение колонки цель заема,\n",
    "# по ключевым словам будет определяться категория\n",
    "def purposes(value):\n",
    "    if 'свадьб' in value:\n",
    "        return 'проведение свадьбы'\n",
    "    elif 'образов' in value:\n",
    "        return 'получение образования'\n",
    "    elif 'автомоб' in value:\n",
    "        return 'операции с автомобилем'\n",
    "    elif 'недвиж' or 'жиль' in value:\n",
    "        return 'операции с недвижимостью'\n",
    "\n",
    "# добавим в датасет столбец  \n",
    "data['purpose_category'] = data['purpose'].apply(purposes)"
   ]
  },
  {
   "cell_type": "markdown",
   "id": "211d8f03",
   "metadata": {},
   "source": [
    "## Есть ли зависимость между количеством детей и возвратом кредита в срок?"
   ]
  },
  {
   "cell_type": "code",
   "execution_count": 21,
   "id": "a78d064c",
   "metadata": {},
   "outputs": [
    {
     "data": {
      "text/html": [
       "<div>\n",
       "<style scoped>\n",
       "    .dataframe tbody tr th:only-of-type {\n",
       "        vertical-align: middle;\n",
       "    }\n",
       "\n",
       "    .dataframe tbody tr th {\n",
       "        vertical-align: top;\n",
       "    }\n",
       "\n",
       "    .dataframe thead th {\n",
       "        text-align: right;\n",
       "    }\n",
       "</style>\n",
       "<table border=\"1\" class=\"dataframe\">\n",
       "  <thead>\n",
       "    <tr style=\"text-align: right;\">\n",
       "      <th></th>\n",
       "      <th>children</th>\n",
       "      <th>debt</th>\n",
       "    </tr>\n",
       "  </thead>\n",
       "  <tbody>\n",
       "    <tr>\n",
       "      <th>0</th>\n",
       "      <td>0</td>\n",
       "      <td>0.075458</td>\n",
       "    </tr>\n",
       "    <tr>\n",
       "      <th>1</th>\n",
       "      <td>1</td>\n",
       "      <td>0.091341</td>\n",
       "    </tr>\n",
       "    <tr>\n",
       "      <th>2</th>\n",
       "      <td>2</td>\n",
       "      <td>0.095553</td>\n",
       "    </tr>\n",
       "    <tr>\n",
       "      <th>3</th>\n",
       "      <td>3</td>\n",
       "      <td>0.082317</td>\n",
       "    </tr>\n",
       "    <tr>\n",
       "      <th>4</th>\n",
       "      <td>4</td>\n",
       "      <td>0.097561</td>\n",
       "    </tr>\n",
       "  </tbody>\n",
       "</table>\n",
       "</div>"
      ],
      "text/plain": [
       "   children      debt\n",
       "0         0  0.075458\n",
       "1         1  0.091341\n",
       "2         2  0.095553\n",
       "3         3  0.082317\n",
       "4         4  0.097561"
      ]
     },
     "metadata": {},
     "output_type": "display_data"
    }
   ],
   "source": [
    "# сгруппирую данные и выведу долю должников\n",
    "children_data = data.groupby(['children'])['debt'].mean().reset_index().sort_values(by='children')\n",
    "# уберу данные, где кол-во детей - 5\n",
    "children_data = children_data.loc[children_data['children'] != 5]\n",
    "display(children_data)"
   ]
  },
  {
   "cell_type": "code",
   "execution_count": 22,
   "id": "f2a72579",
   "metadata": {},
   "outputs": [
    {
     "data": {
      "image/png": "[encoded data removed]",
      "text/plain": [
       "<Figure size 432x288 with 1 Axes>"
      ]
     },
     "metadata": {
      "needs_background": "light"
     },
     "output_type": "display_data"
    }
   ],
   "source": [
    "# импортирую библиотеку для визуализации данных\n",
    "import matplotlib.pyplot as plt\n",
    "# построю столбчатую диаграмму\n",
    "plt.bar(children_data['children'],children_data['debt']*100, color='Black')\n",
    "plt.title('Есть ли зависимость между количеством детей и выплатой заема в срок?')\n",
    "plt.xlabel('Количество детей')\n",
    "plt.ylabel('Процент должников')\n",
    "plt.show()"
   ]
  },
  {
   "cell_type": "markdown",
   "id": "31145d5e",
   "metadata": {},
   "source": [
    "Исходя из полученных данных очевидно что очевидной зависимости между количеством детей и выплатой заема в срок не наблюдается. Можно наблюдать лишь общую динамику снижения количества заемов с увеличением количества детей. В случае, когда у человека 5 детей - нет случаев не возвращения заема в срок."
   ]
  },
  {
   "cell_type": "markdown",
   "id": "cb9a432c",
   "metadata": {},
   "source": [
    "## Есть ли зависимость между семейным положением и возвратом кредита в срок?"
   ]
  },
  {
   "cell_type": "code",
   "execution_count": 23,
   "id": "155d3f5d",
   "metadata": {},
   "outputs": [
    {
     "data": {
      "image/png": "[encoded data removed]",
      "text/plain": [
       "<Figure size 432x288 with 1 Axes>"
      ]
     },
     "metadata": {
      "needs_background": "light"
     },
     "output_type": "display_data"
    }
   ],
   "source": [
    "family_data = data.groupby(['family_status_id'])['debt'].mean().reset_index().sort_values('family_status_id')\n",
    "\n",
    "plt.barh(family_dict['family_status'],family_data['debt']*100, color='Black')\n",
    "plt.title('Есть ли зависимость между семейным положением и возвратом кредита в срок?')\n",
    "\n",
    "plt.xlabel('Процент должников')\n",
    "plt.ylabel('Семейное положение')\n",
    "\n",
    "plt.show()"
   ]
  },
  {
   "cell_type": "markdown",
   "id": "897d1f32",
   "metadata": {},
   "source": [
    "ВЫВОД: Таким образом, исходя из представленных данных можно сделать вывод что среди тех,\n",
    "кто не находился в браке (официально не был расписан), наблюдается чуть больший процент задолженников."
   ]
  },
  {
   "cell_type": "markdown",
   "id": "94a70c48",
   "metadata": {},
   "source": [
    "## Есть ли зависимость между уровнем дохода и возвратом кредита в срок?"
   ]
  },
  {
   "cell_type": "code",
   "execution_count": 24,
   "id": "b831fd97",
   "metadata": {},
   "outputs": [
    {
     "data": {
      "image/png": "[encoded data removed]",
      "text/plain": [
       "<Figure size 432x288 with 1 Axes>"
      ]
     },
     "metadata": {
      "needs_background": "light"
     },
     "output_type": "display_data"
    }
   ],
   "source": [
    "income_data = data.groupby(['total_income_category'])['debt'].mean().reset_index().sort_values('total_income_category')\n",
    "\n",
    "plt.bar(income_data['total_income_category'], income_data['debt']*100, color='Black')\n",
    "plt.title(' Есть ли зависимость между уровнем дохода и возвратом кредита в срок?')\n",
    "plt.xlabel('категория дохода')\n",
    "plt.ylabel('Процент должников')\n",
    "\n",
    "plt.show()"
   ]
  },
  {
   "cell_type": "markdown",
   "id": "3a23de27",
   "metadata": {},
   "source": [
    "ВЫВОД: По полученным данным нельзя сказать что наблюдается какая-то зависимость между уровнем дохода и количеством должников."
   ]
  },
  {
   "cell_type": "markdown",
   "id": "c94fbcc3",
   "metadata": {},
   "source": [
    "## Как разные цели кредита влияют на его возврат в срок?"
   ]
  },
  {
   "cell_type": "code",
   "execution_count": 25,
   "id": "cc8889a5",
   "metadata": {},
   "outputs": [
    {
     "data": {
      "image/png": "[encoded data removed]",
      "text/plain": [
       "<Figure size 432x288 with 1 Axes>"
      ]
     },
     "metadata": {
      "needs_background": "light"
     },
     "output_type": "display_data"
    }
   ],
   "source": [
    "purpose_data = data.groupby(['purpose_category'])['debt'].mean().reset_index().sort_values('purpose_category')\n",
    "\n",
    "plt.barh(purpose_data['purpose_category'], purpose_data['debt']*100, color='Black')\n",
    "plt.title('Как разные цели кредита влияют на его возврат в срок?')\n",
    "plt.xlabel('Процент должников')\n",
    "plt.ylabel('Цель кредита')\n",
    "\n",
    "plt.show()"
   ]
  },
  {
   "cell_type": "markdown",
   "id": "cda372f0",
   "metadata": {},
   "source": [
    "ВЫВОД: Исходя из представленных данных можно сказать что нет одной большой тенденции, связанной с целью кредита и выплатой его в срок. "
   ]
  },
  {
   "cell_type": "markdown",
   "id": "d1aca978",
   "metadata": {},
   "source": [
    "В итоге, ответив на 4 вопроса можно сказать что ни семейное положение, ни количество детей, ни уровень дохода, ни цель кредита не влияют на возврат денег в срок. Но что-то должно влиять, продолжим исследование. Проверим влияет ли гендер, образование,то, кем человек работает и возраст на возврат денежных средств в срок."
   ]
  },
  {
   "cell_type": "markdown",
   "id": "cdbf14ce",
   "metadata": {},
   "source": [
    "1. Как влияет образование на возврат денежных средств в срок?"
   ]
  },
  {
   "cell_type": "code",
   "execution_count": 26,
   "id": "4b851a34",
   "metadata": {},
   "outputs": [
    {
     "data": {
      "image/png": "[encoded data removed]",
      "text/plain": [
       "<Figure size 432x288 with 1 Axes>"
      ]
     },
     "metadata": {
      "needs_background": "light"
     },
     "output_type": "display_data"
    }
   ],
   "source": [
    "education_data = data.groupby(['education_id'])['debt'].mean().reset_index().sort_values('education_id')\n",
    "\n",
    "plt.barh(education_dict['education'], education_data['debt']*100, color='Black')\n",
    "plt.title('Как образование влияет на возврат кредита в срок?')\n",
    "plt.xlabel('Процент должников')\n",
    "plt.ylabel('Образование')\n",
    "\n",
    "plt.show()"
   ]
  },
  {
   "cell_type": "markdown",
   "id": "b92a8bd4",
   "metadata": {},
   "source": [
    "ВЫВОД: А вот образование заемщика имеет прямое влияние на процент должников. Чем ниже уровень образования - тем выше процент должников по кредиту."
   ]
  },
  {
   "cell_type": "code",
   "execution_count": 27,
   "id": "ea0216ab",
   "metadata": {},
   "outputs": [
    {
     "data": {
      "image/png": "[encoded data removed]",
      "text/plain": [
       "<Figure size 432x288 with 1 Axes>"
      ]
     },
     "metadata": {
      "needs_background": "light"
     },
     "output_type": "display_data"
    }
   ],
   "source": [
    "gender_data = data.groupby(['gender'])['debt'].mean().reset_index().sort_values(by='gender')\n",
    "\n",
    "plt.bar(gender_data['gender'], gender_data['debt']*100, color='Black')\n",
    "plt.title('Как гендер влияет на возврат кредита в срок?')\n",
    "plt.xlabel('Gender')\n",
    "plt.ylabel('Процент должников')\n",
    "\n",
    "plt.show()"
   ]
  },
  {
   "cell_type": "markdown",
   "id": "edc910d1",
   "metadata": {},
   "source": [
    "**ВЫВОД:** Здесь мы очевидно наблюдаем зависимость - мужчины чаще просрачивают платежи по кредитам, нежели женщины."
   ]
  },
  {
   "cell_type": "code",
   "execution_count": 28,
   "id": "e52446d2",
   "metadata": {},
   "outputs": [
    {
     "data": {
      "image/png": "[encoded data removed]",
      "text/plain": [
       "<Figure size 432x288 with 1 Axes>"
      ]
     },
     "metadata": {
      "needs_background": "light"
     },
     "output_type": "display_data"
    }
   ],
   "source": [
    "income_data = data.groupby(['income_type'])['debt'].mean().reset_index().sort_values('debt')\n",
    "\n",
    "plt.barh(income_data['income_type'], income_data['debt']*100, color='Black')\n",
    "plt.title('Как тип занятости влияет на возврат кредита в срок?')\n",
    "plt.xlabel('Процент должников')\n",
    "plt.ylabel('Тип занятости')\n",
    "\n",
    "plt.show()"
   ]
  },
  {
   "cell_type": "markdown",
   "id": "f9d80e33",
   "metadata": {},
   "source": [
    "Наблюдается очевидная зависимоть - неблагонадежными заемщиками, просрачивающими выплаты по кредитам можно назвать людей в декрете и безработных. Студенты, по-видимому имеют нулевой процент по задолженностям ввиду того что находятся под опекой родителей, которые помогают внести деньги в срок. \n",
    "\n",
    "Однако данные о типе занятости могут ничего не значить, надо просмотреть их в сумме с доходом человека, тогда, возможно, картина будет более полная."
   ]
  },
  {
   "cell_type": "code",
   "execution_count": 29,
   "id": "9d61943a",
   "metadata": {},
   "outputs": [
    {
     "data": {
      "text/html": [
       "<div>\n",
       "<style scoped>\n",
       "    .dataframe tbody tr th:only-of-type {\n",
       "        vertical-align: middle;\n",
       "    }\n",
       "\n",
       "    .dataframe tbody tr th {\n",
       "        vertical-align: top;\n",
       "    }\n",
       "\n",
       "    .dataframe thead th {\n",
       "        text-align: right;\n",
       "    }\n",
       "</style>\n",
       "<table border=\"1\" class=\"dataframe\">\n",
       "  <thead>\n",
       "    <tr style=\"text-align: right;\">\n",
       "      <th>total_income_category</th>\n",
       "      <th>A</th>\n",
       "      <th>B</th>\n",
       "      <th>C</th>\n",
       "      <th>D</th>\n",
       "      <th>E</th>\n",
       "    </tr>\n",
       "    <tr>\n",
       "      <th>income_type</th>\n",
       "      <th></th>\n",
       "      <th></th>\n",
       "      <th></th>\n",
       "      <th></th>\n",
       "      <th></th>\n",
       "    </tr>\n",
       "  </thead>\n",
       "  <tbody>\n",
       "    <tr>\n",
       "      <th>безработный</th>\n",
       "      <td>--</td>\n",
       "      <td>0.0</td>\n",
       "      <td>1.0</td>\n",
       "      <td>--</td>\n",
       "      <td>--</td>\n",
       "    </tr>\n",
       "    <tr>\n",
       "      <th>в декрете</th>\n",
       "      <td>--</td>\n",
       "      <td>--</td>\n",
       "      <td>1.0</td>\n",
       "      <td>--</td>\n",
       "      <td>--</td>\n",
       "    </tr>\n",
       "    <tr>\n",
       "      <th>госслужащий</th>\n",
       "      <td>--</td>\n",
       "      <td>0.048913</td>\n",
       "      <td>0.063327</td>\n",
       "      <td>0.041667</td>\n",
       "      <td>0.0</td>\n",
       "    </tr>\n",
       "    <tr>\n",
       "      <th>компаньон</th>\n",
       "      <td>0.133333</td>\n",
       "      <td>0.06351</td>\n",
       "      <td>0.079781</td>\n",
       "      <td>0.04</td>\n",
       "      <td>0.0</td>\n",
       "    </tr>\n",
       "    <tr>\n",
       "      <th>пенсионер</th>\n",
       "      <td>--</td>\n",
       "      <td>0.056673</td>\n",
       "      <td>0.056763</td>\n",
       "      <td>0.042683</td>\n",
       "      <td>0.133333</td>\n",
       "    </tr>\n",
       "    <tr>\n",
       "      <th>предприниматель</th>\n",
       "      <td>--</td>\n",
       "      <td>0.0</td>\n",
       "      <td>--</td>\n",
       "      <td>--</td>\n",
       "      <td>--</td>\n",
       "    </tr>\n",
       "    <tr>\n",
       "      <th>сотрудник</th>\n",
       "      <td>0.0</td>\n",
       "      <td>0.082875</td>\n",
       "      <td>0.099483</td>\n",
       "      <td>0.088889</td>\n",
       "      <td>0.0</td>\n",
       "    </tr>\n",
       "    <tr>\n",
       "      <th>студент</th>\n",
       "      <td>--</td>\n",
       "      <td>--</td>\n",
       "      <td>0.0</td>\n",
       "      <td>--</td>\n",
       "      <td>--</td>\n",
       "    </tr>\n",
       "  </tbody>\n",
       "</table>\n",
       "</div>"
      ],
      "text/plain": [
       "total_income_category         A         B         C         D         E\n",
       "income_type                                                            \n",
       "безработный                  --       0.0       1.0        --        --\n",
       "в декрете                    --        --       1.0        --        --\n",
       "госслужащий                  --  0.048913  0.063327  0.041667       0.0\n",
       "компаньон              0.133333   0.06351  0.079781      0.04       0.0\n",
       "пенсионер                    --  0.056673  0.056763  0.042683  0.133333\n",
       "предприниматель              --       0.0        --        --        --\n",
       "сотрудник                   0.0  0.082875  0.099483  0.088889       0.0\n",
       "студент                      --        --       0.0        --        --"
      ]
     },
     "execution_count": 29,
     "metadata": {},
     "output_type": "execute_result"
    }
   ],
   "source": [
    "# получим сводную таблицу, NaN заменим на прочерки\n",
    "pd.pivot_table(data, index=['income_type'], columns='total_income_category', values='debt').fillna('--')"
   ]
  },
  {
   "cell_type": "markdown",
   "id": "b85ece4b",
   "metadata": {},
   "source": [
    "Полученные данные свидетельствуют о том что люди могут работать кем угодно, и среди самых разных разных достатков есть те кто платят в срок и те, кто просрачивают платежи по кредитам."
   ]
  },
  {
   "cell_type": "markdown",
   "id": "dc87b605",
   "metadata": {},
   "source": [
    "Рассмотрим, наконец, как влияет возраст на то, как люди платят по кредиту. Привычным методом сгруппируем таблицу и визуализируем ее."
   ]
  },
  {
   "cell_type": "code",
   "execution_count": 30,
   "id": "edc2ab4c",
   "metadata": {},
   "outputs": [
    {
     "data": {
      "image/png": "[encoded data removed]",
      "text/plain": [
       "<Figure size 432x288 with 1 Axes>"
      ]
     },
     "metadata": {
      "needs_background": "light"
     },
     "output_type": "display_data"
    }
   ],
   "source": [
    "age_data = data.groupby(['dob_years'])['debt'].mean().reset_index().sort_values(by='debt')\n",
    "#display(age_data)\n",
    "plt.bar(age_data['dob_years'], age_data['debt']*100, color='Pink')\n",
    "plt.title('Как возраст влияет на возврат кредита в срок?')\n",
    "plt.xlabel('Возраст, лет')\n",
    "plt.ylabel('Процент должников')\n",
    "\n",
    "plt.show()"
   ]
  },
  {
   "cell_type": "markdown",
   "id": "030b657e",
   "metadata": {},
   "source": [
    "## ИТОГОВЫЕ ВЫВОДЫ:\n",
    "    ЧТО НЕ ВЛИЯЕТ НА ВОЗВРАТ КРЕДИТА В СРОК:\n",
    "    1. Количество детей не влияет на то как люди выплачивают кредит. За одним исключением - в случае 5ти детей 100% взятых кредитов были выплачены в срок.\n",
    "    2. В целом семейное положение не влияет на то как люди выплачивают кредиты. Можно лишь отметить что среди тех кто не состоял в официальном браке (холостые или находящиеся в гражданском браке) процент должников  выше 9% (для остальных - ниже 8%)\n",
    "    3. Зависимости между уровнем достатка и возвратом кредита в срок не наблюдается.\n",
    "    4. Цели на взятие кредита не влияют на то, как люди вносят деньги.\n",
    "    ЧТО ВЛИЯЕТ НА ВОЗВРАТ КРЕДИТА В СРОК:\n",
    "    1. Образование. Чем выше уровень образования тем меньше процент должников.\n",
    "    2. Гендер. Мужчины чаще не вносили деньги в срок.\n",
    "    3. Возраст. В целом наблюдается тенденция - чем выше возраст, тем меньше просрочек по кредитам.\n",
    "Рассматривать отдельно как влияет тип занятости на то как происходит платеж по кредиту, мне показалось неправильным, поэтому я рассмотрела вместе тип занятости и доход - зависимости не наблюдалось. "
   ]
  }
 ],
 "metadata": {
  "ExecuteTimeLog": [
   {
    "duration": 4367,
    "start_time": "2022-02-12T18:28:27.756Z"
   },
   {
    "duration": 286,
    "start_time": "2022-02-12T18:28:31.842Z"
   },
   {
    "duration": 287,
    "start_time": "2022-02-12T18:28:31.843Z"
   },
   {
    "duration": 287,
    "start_time": "2022-02-12T18:28:31.844Z"
   },
   {
    "duration": 287,
    "start_time": "2022-02-12T18:28:31.846Z"
   },
   {
    "duration": 288,
    "start_time": "2022-02-12T18:28:31.847Z"
   },
   {
    "duration": 288,
    "start_time": "2022-02-12T18:28:31.848Z"
   },
   {
    "duration": 290,
    "start_time": "2022-02-12T18:28:31.849Z"
   },
   {
    "duration": 289,
    "start_time": "2022-02-12T18:28:31.851Z"
   },
   {
    "duration": 231,
    "start_time": "2022-02-12T18:28:31.910Z"
   },
   {
    "duration": 230,
    "start_time": "2022-02-12T18:28:31.913Z"
   },
   {
    "duration": 226,
    "start_time": "2022-02-12T18:28:31.919Z"
   },
   {
    "duration": 225,
    "start_time": "2022-02-12T18:28:31.921Z"
   },
   {
    "duration": 225,
    "start_time": "2022-02-12T18:28:31.923Z"
   },
   {
    "duration": 224,
    "start_time": "2022-02-12T18:28:31.925Z"
   },
   {
    "duration": 224,
    "start_time": "2022-02-12T18:28:31.927Z"
   },
   {
    "duration": 215,
    "start_time": "2022-02-12T18:28:31.937Z"
   },
   {
    "duration": 214,
    "start_time": "2022-02-12T18:28:31.939Z"
   },
   {
    "duration": 280,
    "start_time": "2022-02-12T18:28:31.944Z"
   },
   {
    "duration": 278,
    "start_time": "2022-02-12T18:28:31.948Z"
   },
   {
    "duration": 276,
    "start_time": "2022-02-12T18:28:31.952Z"
   },
   {
    "duration": 268,
    "start_time": "2022-02-12T18:28:31.961Z"
   },
   {
    "duration": 269,
    "start_time": "2022-02-12T18:28:31.962Z"
   },
   {
    "duration": 220,
    "start_time": "2022-02-12T18:28:32.012Z"
   },
   {
    "duration": 219,
    "start_time": "2022-02-12T18:28:32.014Z"
   },
   {
    "duration": 211,
    "start_time": "2022-02-12T18:28:32.023Z"
   },
   {
    "duration": 211,
    "start_time": "2022-02-12T18:28:32.024Z"
   },
   {
    "duration": 212,
    "start_time": "2022-02-12T18:28:32.025Z"
   },
   {
    "duration": 578,
    "start_time": "2022-02-12T18:28:48.866Z"
   },
   {
    "duration": 127,
    "start_time": "2022-02-12T18:29:35.825Z"
   },
   {
    "duration": 72,
    "start_time": "2022-02-12T18:29:35.955Z"
   },
   {
    "duration": 15,
    "start_time": "2022-02-12T18:29:36.029Z"
   },
   {
    "duration": 9,
    "start_time": "2022-02-12T18:29:36.047Z"
   },
   {
    "duration": 18,
    "start_time": "2022-02-12T18:29:36.125Z"
   },
   {
    "duration": 7,
    "start_time": "2022-02-12T18:29:36.145Z"
   },
   {
    "duration": 77,
    "start_time": "2022-02-12T18:29:36.154Z"
   },
   {
    "duration": 18,
    "start_time": "2022-02-12T18:29:36.234Z"
   },
   {
    "duration": 95,
    "start_time": "2022-02-12T18:29:36.255Z"
   },
   {
    "duration": 10,
    "start_time": "2022-02-12T18:29:36.352Z"
   },
   {
    "duration": 15,
    "start_time": "2022-02-12T18:29:36.424Z"
   },
   {
    "duration": 19,
    "start_time": "2022-02-12T18:29:36.442Z"
   },
   {
    "duration": 30,
    "start_time": "2022-02-12T18:29:36.524Z"
   },
   {
    "duration": 80,
    "start_time": "2022-02-12T18:29:36.556Z"
   },
   {
    "duration": 23,
    "start_time": "2022-02-12T18:29:36.639Z"
   },
   {
    "duration": 62,
    "start_time": "2022-02-12T18:29:36.664Z"
   },
   {
    "duration": 20,
    "start_time": "2022-02-12T18:29:36.730Z"
   },
   {
    "duration": 78,
    "start_time": "2022-02-12T18:29:36.753Z"
   },
   {
    "duration": 24,
    "start_time": "2022-02-12T18:29:36.833Z"
   },
   {
    "duration": 672,
    "start_time": "2022-02-12T18:29:36.860Z"
   },
   {
    "duration": 509,
    "start_time": "2022-02-12T18:29:37.534Z"
   },
   {
    "duration": 505,
    "start_time": "2022-02-12T18:29:38.047Z"
   },
   {
    "duration": 501,
    "start_time": "2022-02-12T18:29:38.554Z"
   },
   {
    "duration": 495,
    "start_time": "2022-02-12T18:29:39.058Z"
   },
   {
    "duration": 793,
    "start_time": "2022-02-12T18:29:39.556Z"
   },
   {
    "duration": 907,
    "start_time": "2022-02-12T18:29:40.353Z"
   },
   {
    "duration": 91,
    "start_time": "2022-02-12T18:29:41.264Z"
   },
   {
    "duration": 884,
    "start_time": "2022-02-12T18:29:41.358Z"
   },
   {
    "duration": 31,
    "start_time": "2022-02-12T18:31:40.152Z"
   },
   {
    "duration": 1454,
    "start_time": "2022-02-12T18:31:54.775Z"
   },
   {
    "duration": 16,
    "start_time": "2022-02-12T18:31:56.231Z"
   },
   {
    "duration": 79,
    "start_time": "2022-02-12T18:31:56.250Z"
   },
   {
    "duration": 9,
    "start_time": "2022-02-12T18:31:56.333Z"
   },
   {
    "duration": 84,
    "start_time": "2022-02-12T18:31:56.345Z"
   },
   {
    "duration": 6,
    "start_time": "2022-02-12T18:31:56.432Z"
   },
   {
    "duration": 17,
    "start_time": "2022-02-12T18:31:56.441Z"
   },
   {
    "duration": 79,
    "start_time": "2022-02-12T18:31:56.461Z"
   },
   {
    "duration": 79,
    "start_time": "2022-02-12T18:31:56.544Z"
   },
   {
    "duration": 13,
    "start_time": "2022-02-12T18:31:56.628Z"
   },
   {
    "duration": 87,
    "start_time": "2022-02-12T18:31:56.643Z"
   },
   {
    "duration": 14,
    "start_time": "2022-02-12T18:31:56.733Z"
   },
   {
    "duration": 88,
    "start_time": "2022-02-12T18:31:56.750Z"
   },
   {
    "duration": 20,
    "start_time": "2022-02-12T18:31:56.841Z"
   },
   {
    "duration": 24,
    "start_time": "2022-02-12T18:31:56.923Z"
   },
   {
    "duration": 79,
    "start_time": "2022-02-12T18:31:56.950Z"
   },
   {
    "duration": 6,
    "start_time": "2022-02-12T18:31:57.031Z"
   },
   {
    "duration": 88,
    "start_time": "2022-02-12T18:31:57.039Z"
   },
   {
    "duration": 21,
    "start_time": "2022-02-12T18:31:57.130Z"
   },
   {
    "duration": 84,
    "start_time": "2022-02-12T18:31:57.154Z"
   },
   {
    "duration": 819,
    "start_time": "2022-02-12T18:31:57.241Z"
   },
   {
    "duration": 582,
    "start_time": "2022-02-12T18:31:58.063Z"
   },
   {
    "duration": 492,
    "start_time": "2022-02-12T18:31:58.647Z"
   },
   {
    "duration": 584,
    "start_time": "2022-02-12T18:31:59.142Z"
   },
   {
    "duration": 737,
    "start_time": "2022-02-12T18:31:59.729Z"
   },
   {
    "duration": 417,
    "start_time": "2022-02-12T18:32:00.524Z"
   },
   {
    "duration": 598,
    "start_time": "2022-02-12T18:32:00.948Z"
   },
   {
    "duration": 99,
    "start_time": "2022-02-12T18:32:01.549Z"
   },
   {
    "duration": 901,
    "start_time": "2022-02-12T18:32:01.652Z"
   }
  ],
  "kernelspec": {
   "display_name": "Python 3 (ipykernel)",
   "language": "python",
   "name": "python3"
  },
  "language_info": {
   "codemirror_mode": {
    "name": "ipython",
    "version": 3
   },
   "file_extension": ".py",
   "mimetype": "text/x-python",
   "name": "python",
   "nbconvert_exporter": "python",
   "pygments_lexer": "ipython3",
   "version": "3.9.7"
  },
  "toc": {
   "base_numbering": 1,
   "nav_menu": {},
   "number_sections": true,
   "sideBar": true,
   "skip_h1_title": true,
   "title_cell": "Table of Contents",
   "title_sidebar": "Contents",
   "toc_cell": false,
   "toc_position": {},
   "toc_section_display": true,
   "toc_window_display": false
  }
 },
 "nbformat": 4,
 "nbformat_minor": 5
}
